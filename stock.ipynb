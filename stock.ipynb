{
 "metadata": {
  "language_info": {
   "codemirror_mode": {
    "name": "ipython",
    "version": 3
   },
   "file_extension": ".py",
   "mimetype": "text/x-python",
   "name": "python",
   "nbconvert_exporter": "python",
   "pygments_lexer": "ipython3",
   "version": "2.7.17"
  },
  "orig_nbformat": 2,
  "kernelspec": {
   "name": "python2717jvsc74a57bd0767d51c1340bd893661ea55ea3124f6de3c7a262a8b4abca0554b478b1e2ff90",
   "display_name": "Python 2.7.17 64-bit"
  },
  "metadata": {
   "interpreter": {
    "hash": "767d51c1340bd893661ea55ea3124f6de3c7a262a8b4abca0554b478b1e2ff90"
   }
  }
 },
 "nbformat": 4,
 "nbformat_minor": 2,
 "cells": [
  {
   "cell_type": "code",
   "execution_count": 1,
   "metadata": {},
   "outputs": [
    {
     "output_type": "error",
     "ename": "ImportError",
     "evalue": "No module named requests",
     "traceback": [
      "\u001b[0;31m\u001b[0m",
      "\u001b[0;31mImportError\u001b[0mTraceback (most recent call last)",
      "\u001b[0;32m<ipython-input-1-ec101c6e9536>\u001b[0m in \u001b[0;36m<module>\u001b[0;34m()\u001b[0m\n\u001b[0;32m----> 1\u001b[0;31m \u001b[0;32mimport\u001b[0m \u001b[0mrequests\u001b[0m\u001b[0;34m,\u001b[0m\u001b[0mnumpy\u001b[0m\u001b[0;34m,\u001b[0m\u001b[0mpandas\u001b[0m\u001b[0;34m,\u001b[0m\u001b[0mjson\u001b[0m\u001b[0;34m,\u001b[0m\u001b[0mmatplotlib\u001b[0m\u001b[0;34m,\u001b[0m\u001b[0mdatetime\u001b[0m\u001b[0;34m,\u001b[0m\u001b[0mtime\u001b[0m\u001b[0;34m\u001b[0m\u001b[0m\n\u001b[0m\u001b[1;32m      2\u001b[0m \u001b[0;32mfrom\u001b[0m \u001b[0mflask\u001b[0m \u001b[0;32mimport\u001b[0m \u001b[0mFlask\u001b[0m\u001b[0;34m\u001b[0m\u001b[0m\n\u001b[1;32m      3\u001b[0m \u001b[0;32mfrom\u001b[0m \u001b[0mio\u001b[0m \u001b[0;32mimport\u001b[0m \u001b[0mStringIO\u001b[0m\u001b[0;34m\u001b[0m\u001b[0m\n",
      "\u001b[0;31mImportError\u001b[0m: No module named requests"
     ]
    }
   ],
   "source": [
    "import requests,numpy,pandas,json,matplotlib,datetime,time\n",
    "from flask import Flask\n",
    "from io import StringIO"
   ]
  },
  {
   "source": [
    "### Data requesting function"
   ],
   "cell_type": "markdown",
   "metadata": {}
  },
  {
   "cell_type": "code",
   "execution_count": 17,
   "metadata": {},
   "outputs": [],
   "source": [
    "def create_new_header(orignal_headers):\n",
    "    new_headers = []\n",
    "\n",
    "    for column in orignal_headers:\n",
    "        data = str(column)\n",
    "        if data == \"證券代號\":\n",
    "            new_headers.append(\"stock_symbol\")\n",
    "        elif data == \"日期\":\n",
    "            new_headers.append(\"date\")\n",
    "        elif data == \"證券名稱\":\n",
    "            new_headers.append(\"stock_name\")\n",
    "        elif data == \"成交股數\":\n",
    "            new_headers.append(\"volume\")\n",
    "        elif data == \"成交金額\":\n",
    "            new_headers.append(\"total_price\")\n",
    "        elif data == \"開盤價\":\n",
    "            new_headers.append(\"open\")\n",
    "        elif data == \"最高價\":\n",
    "            new_headers.append(\"high\")\n",
    "        elif data == \"最低價\":\n",
    "            new_headers.append(\"low\")\n",
    "        elif data == \"收盤價\":\n",
    "            new_headers.append(\"close\")\n",
    "        elif data == \"漲跌價差\":\n",
    "            new_headers.append(\"spread\")\n",
    "        elif data == \"成交筆數\":\n",
    "            new_headers.append(\"transactions_number\")\n",
    "\n",
    "    return new_headers\n",
    "\n",
    "def convert_date(data_ROC):\n",
    "    \"\"\"因為格式為109/1/1，為民國年，需轉換成西元年\"\"\"\n",
    "    date_arr = data_ROC.split(\"/\")\n",
    "    new_year = int(date_arr[0]) + 1911\n",
    "    return f\"{new_year}-{date_arr[1]}-{date_arr[2]}\"\n",
    "\n",
    "def get_stock_history_data(stock_symbol, his_month):\n",
    "    # API位置\n",
    "    # address = \"http://www.twse.com.tw/exchangeReport/STOCK_DAY_ALL?response=open_data\"\n",
    "    \n",
    "    stock = stock_symbol\n",
    "    date = his_month\n",
    "    address = f\"https://www.twse.com.tw/exchangeReport/STOCK_DAY?response=json&date={date}&stockNo={stock}\"\n",
    "\n",
    "    # 取得資料\n",
    "    response = requests.get(address)\n",
    "    # 解析\n",
    "    # 有幾個部分：stat, date, title, fields, data, notes\n",
    "    data = response.text  # 這是json格式的資料\n",
    "    a_json = json.loads(data)  # 轉成dict\n",
    "    df = pandas.DataFrame.from_dict(a_json[\"data\"])  # 轉成dataframe\n",
    "\n",
    "    # 修改欄位名稱\n",
    "    new_headers = create_new_header(a_json[\"fields\"])\n",
    "    df.columns = new_headers  # 設定資料欄位的名稱\n",
    "    # print(df)\n",
    "\n",
    "    df.to_csv(f\"{stock_symbol}_{his_month}.csv\")\n",
    "    print(\"===finished===\")\n"
   ]
  },
  {
   "source": [
    "### Data analysis funciton"
   ],
   "cell_type": "markdown",
   "metadata": {}
  },
  {
   "cell_type": "code",
   "execution_count": null,
   "metadata": {},
   "outputs": [],
   "source": []
  },
  {
   "source": [
    "### Requesting data"
   ],
   "cell_type": "markdown",
   "metadata": {}
  },
  {
   "source": [
    "date_list = (\n",
    "    pandas.date_range(\n",
    "        \"2014-2-1\",\n",
    "        datetime.datetime.now().strftime(\"%Y-%m-%d\"),\n",
    "        freq=\"MS\",\n",
    "        tz=\"Asia/Taipei\",\n",
    "    )\n",
    "    .strftime(\"%Y%m%d\")\n",
    "    .tolist()\n",
    ")\n",
    "stock_list=[\"2330\",\"0050\"]\n",
    "print(\"date list:\")\n",
    "print(date_list)\n",
    "print(\"stock list:\")\n",
    "print(stock_list)\n",
    "for data_stock in stock_list:\n",
    "    for data_date in date_list:\n",
    "        print(f\"start({data_stock}): {data_date}\")\n",
    "        get_stock_history_data(data_stock, data_date)\n",
    "        time.sleep(1)\n",
    "    #bug: https://stackoverflow.com/questions/45529909/python-request-futures-does-not-seem-to-be-working-for-me\n",
    "    #need to limit the request, solution vpngate.py\n"
   ],
   "cell_type": "markdown",
   "metadata": {}
  },
  {
   "cell_type": "code",
   "execution_count": null,
   "metadata": {},
   "outputs": [],
   "source": []
  },
  {
   "source": [
    "# https://ithelp.ithome.com.tw/articles/10248648\n",
    "# https://www.finlab.tw/Python-%E7%B0%A1%E5%96%AE158%E7%A8%AE%E6%8A%80%E8%A1%93%E6%8C%87%E6%A8%99%E8%A8%88%E7%AE%97/#KD_zhi_ji_suan"
   ],
   "cell_type": "code",
   "metadata": {},
   "execution_count": null,
   "outputs": []
  }
 ]
}